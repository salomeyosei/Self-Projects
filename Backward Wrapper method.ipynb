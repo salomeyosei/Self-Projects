{
 "cells": [
  {
   "cell_type": "markdown",
   "metadata": {},
   "source": [
    "# Backward Wrapper"
   ]
  },
  {
   "cell_type": "code",
   "execution_count": 12,
   "metadata": {},
   "outputs": [],
   "source": [
    "from sklearn import datasets\n",
    "from sklearn.metrics import accuracy_score\n",
    "import numpy as np\n",
    "\n",
    "# import some data to play with\n",
    "iris = datasets.load_iris()\n",
    "X = iris.data  # we only take the first two features.\n",
    "Y = (iris.target != 0) * 1\n"
   ]
  },
  {
   "cell_type": "code",
   "execution_count": 13,
   "metadata": {},
   "outputs": [],
   "source": [
    "class LogisticRegression:\n",
    "    \n",
    "    def fit(self, X, y, lr=0.001, thres=0.001):\n",
    "        #print(\"before\",X.shape)\n",
    "        X = np.insert(X, 0, 1, axis=1)\n",
    "        #print(\"after\",X.shape)\n",
    "        self.weight = np.zeros(X.shape[1])\n",
    "        while True:\n",
    "            prediction = self.sigmoid(np.dot(X, self.weight))\n",
    "            gradient = np.dot((y - prediction), X)\n",
    "            self.weight = self.weight + (lr * gradient)\n",
    "            update = (lr * gradient)\n",
    "            if np.abs(update).max() < thres:\n",
    "                break\n",
    "        \n",
    "    def predict(self, X):\n",
    "        X = np.insert(X, 0, 1, axis=1)\n",
    "        prediction = self.sigmoid(np.dot(X, self.weight))\n",
    "        return np.vectorize(lambda p: 1 if p >= 0.5 else 0)(prediction)\n",
    "    \n",
    "    def sigmoid(self, z):\n",
    "        return 1/ (1 + np.exp(-1 * z))\n",
    "    \n",
    "    \n",
    "    \n",
    "    \n",
    "    def loss_function(self, X, y):\n",
    "        X = np.insert(X, 0, 1, axis=1)\n",
    "        prediction = self.sigmoid(np.dot(X, self.weight))\n",
    "        return np.sum(np.dot(y, (np.log(prediction))) + np.dot((1-y),(np.log(1 - prediction))))"
   ]
  },
  {
   "cell_type": "code",
   "execution_count": 14,
   "metadata": {},
   "outputs": [],
   "source": [
    "def Cross_validation(X,y):\n",
    "    kfold=k_fold(X,5)\n",
    "    losses=[]\n",
    "    for fold in kfold:\n",
    "        train_indices,test_indices=fold\n",
    "        x_train,x_test=X[train_indices],X[test_indices]\n",
    "        y_train,y_test=y[train_indices],y[test_indices]\n",
    "        lr=LogisticRegression()\n",
    "        lr.fit(x_train,y_train)\n",
    "        loss=lr.loss_function(x_test,y_test)\n",
    "        losses.append(loss)\n",
    "        \n",
    "        \n",
    "    average=sum(losses)/len(losses)\n",
    "    return average\n",
    "    "
   ]
  },
  {
   "cell_type": "code",
   "execution_count": 15,
   "metadata": {},
   "outputs": [],
   "source": [
    "def k_fold(X,k):\n",
    "    m=X.shape[0]\n",
    "    indices=np.random.permutation(m)\n",
    "    fold_length=m//k\n",
    "    item_slices=[indices[i * fold_length : (i + 1)* fold_length] for i in range(k)] \n",
    "    train_test=[]\n",
    "    \n",
    "    for test_index in range(k):\n",
    "        test=item_slices[test_index]\n",
    "        train_indices=[i for i in range(k) if test_index!= i]\n",
    "        train=[]\n",
    "        for train_index in train_indices:\n",
    "            train.extend(item_slices[train_index])\n",
    "            \n",
    "        train_test.append((train,test))\n",
    "    return train_test"
   ]
  },
  {
   "cell_type": "code",
   "execution_count": 16,
   "metadata": {},
   "outputs": [
    {
     "name": "stdout",
     "output_type": "stream",
     "text": [
      "[0, 1]\n"
     ]
    }
   ],
   "source": [
    "k=2\n",
    "Features=[0,1,2,3]\n",
    "while len(Features) > k:\n",
    "    averages_cost=[]\n",
    "    for i in range(len(Features)):\n",
    "        sub_features=[feature for feature in Features if feature!= Features[i]]\n",
    "        avg_cost=Cross_validation(X[:,sub_features],Y)\n",
    "        averages_cost.append(avg_cost)\n",
    "        \n",
    "    remove=np.argmin(averages_cost)\n",
    "    Features.pop(remove)\n",
    "print(Features)       \n",
    "    "
   ]
  }
 ],
 "metadata": {
  "kernelspec": {
   "display_name": "Python 3",
   "language": "python",
   "name": "python3"
  },
  "language_info": {
   "codemirror_mode": {
    "name": "ipython",
    "version": 3
   },
   "file_extension": ".py",
   "mimetype": "text/x-python",
   "name": "python",
   "nbconvert_exporter": "python",
   "pygments_lexer": "ipython3",
   "version": "3.7.3"
  }
 },
 "nbformat": 4,
 "nbformat_minor": 2
}
