{
 "cells": [
  {
   "cell_type": "code",
   "execution_count": 4,
   "metadata": {},
   "outputs": [],
   "source": [
    "from sklearn import datasets\n",
    "from sklearn.metrics import accuracy_score\n",
    "import numpy as np\n",
    "\n",
    "# import some data to play with\n",
    "iris = datasets.load_iris()\n",
    "X = iris.data  # we only take the first two features.\n",
    "Y = (iris.target != 0) * 1\n"
   ]
  },
  {
   "cell_type": "code",
   "execution_count": 5,
   "metadata": {},
   "outputs": [],
   "source": [
    "class LogisticRegression:\n",
    "    \n",
    "    def fit(self, X, y, lr=0.001, thres=0.001):\n",
    "        #print(\"before\",X.shape)\n",
    "        X = np.insert(X, 0, 1, axis=1)\n",
    "        #print(\"after\",X.shape)\n",
    "        self.weight = np.zeros(X.shape[1])\n",
    "        while True:\n",
    "            prediction = self.sigmoid(np.dot(X, self.weight))\n",
    "            gradient = np.dot((y - prediction), X)\n",
    "            self.weight = self.weight + (lr * gradient)\n",
    "            update = (lr * gradient)\n",
    "            if np.abs(update).max() < thres:\n",
    "                break\n",
    "        \n",
    "    def predict(self, X):\n",
    "        X = np.insert(X, 0, 1, axis=1)\n",
    "        prediction = self.sigmoid(np.dot(X, self.weight))\n",
    "        return np.vectorize(lambda p: 1 if p >= 0.5 else 0)(prediction)\n",
    "    \n",
    "    def sigmoid(self, z):\n",
    "        return 1/ (1 + np.exp(-1 * z))\n",
    "    \n",
    "    \n",
    "    \n",
    "    \n",
    "    def loss_function(self, X, y):\n",
    "        X = np.insert(X, 0, 1, axis=1)\n",
    "        prediction = self.sigmoid(np.dot(X, self.weight))\n",
    "        return np.sum(np.dot(y, (np.log(prediction))) + np.dot((1-y),(np.log(1 - prediction))))"
   ]
  },
  {
   "cell_type": "code",
   "execution_count": 6,
   "metadata": {},
   "outputs": [
    {
     "data": {
      "text/plain": [
       "1.0"
      ]
     },
     "execution_count": 6,
     "metadata": {},
     "output_type": "execute_result"
    }
   ],
   "source": [
    "lr = LogisticRegression()\n",
    "lr.fit(X,Y, lr=0.01)\n",
    "\n",
    "pre = lr.predict(X)\n",
    "accuracy_score(Y, pre)"
   ]
  }
 ],
 "metadata": {
  "kernelspec": {
   "display_name": "Python 3",
   "language": "python",
   "name": "python3"
  },
  "language_info": {
   "codemirror_mode": {
    "name": "ipython",
    "version": 3
   },
   "file_extension": ".py",
   "mimetype": "text/x-python",
   "name": "python",
   "nbconvert_exporter": "python",
   "pygments_lexer": "ipython3",
   "version": "3.7.3"
  }
 },
 "nbformat": 4,
 "nbformat_minor": 2
}
