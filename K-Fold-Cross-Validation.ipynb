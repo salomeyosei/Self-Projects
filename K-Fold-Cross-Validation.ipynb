{
 "cells": [
  {
   "cell_type": "code",
   "execution_count": 1,
   "metadata": {},
   "outputs": [],
   "source": [
    "from sklearn import datasets\n",
    "from sklearn.metrics import accuracy_score\n",
    "import numpy as np\n",
    "\n",
    "# import some data to play with\n",
    "iris = datasets.load_iris()\n",
    "X = iris.data  # we only take the first two features.\n",
    "Y = (iris.target != 0) * 1\n"
   ]
  },
  {
   "cell_type": "code",
   "execution_count": 2,
   "metadata": {},
   "outputs": [],
   "source": [
    "def k_fold(X,k):\n",
    "    m=X.shape[0]\n",
    "    indices=np.random.permutation(m)\n",
    "    fold_length=m//k\n",
    "    item_slices=[indices[i * fold_length : (i + 1)* fold_length] for i in range(k)] \n",
    "    train_test=[]\n",
    "    \n",
    "    for test_index in range(k):\n",
    "        test=item_slices[test_index]\n",
    "        train_indices=[i for i in range(k) if test_index!= i]\n",
    "        train=[]\n",
    "        for train_index in train_indices:\n",
    "            train.extend(item_slices[train_index])\n",
    "            \n",
    "        train_test.append((train,test))\n",
    "    return train_test"
   ]
  },
  {
   "cell_type": "code",
   "execution_count": 3,
   "metadata": {},
   "outputs": [
    {
     "data": {
      "text/plain": [
       "5"
      ]
     },
     "execution_count": 3,
     "metadata": {},
     "output_type": "execute_result"
    }
   ],
   "source": [
    "len(k_fold(X,5))"
   ]
  }
 ],
 "metadata": {
  "kernelspec": {
   "display_name": "Python 3",
   "language": "python",
   "name": "python3"
  },
  "language_info": {
   "codemirror_mode": {
    "name": "ipython",
    "version": 3
   },
   "file_extension": ".py",
   "mimetype": "text/x-python",
   "name": "python",
   "nbconvert_exporter": "python",
   "pygments_lexer": "ipython3",
   "version": "3.7.3"
  }
 },
 "nbformat": 4,
 "nbformat_minor": 2
}
